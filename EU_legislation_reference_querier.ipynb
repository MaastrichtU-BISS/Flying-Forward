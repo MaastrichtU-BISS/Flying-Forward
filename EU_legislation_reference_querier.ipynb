{
 "cells": [
  {
   "cell_type": "code",
   "execution_count": 663,
   "metadata": {},
   "outputs": [],
   "source": [
    "from SPARQLWrapper import SPARQLWrapper, JSON\n",
    "\n",
    "def get_citations(source_celex, cites_depth=1, cited_depth=1):\n",
    "    \"\"\"\n",
    "    Gets all the citations one to X steps away. Hops can be specified as either\n",
    "    the source document citing another (defined by `cites_depth`) or another document\n",
    "    citing it (`cited_depth`). Any numbers higher than 1 denote that new source document\n",
    "    citing a document of its own.\n",
    "\n",
    "    This specific implementation does not care about intermediate steps, it simply finds\n",
    "    anything X or fewer hops away without linking those together.\n",
    "    \"\"\"    \n",
    "    sparql = SPARQLWrapper('https://publications.europa.eu/webapi/rdf/sparql')\n",
    "    sparql.setReturnFormat(JSON)\n",
    "    sparql.setQuery('''\n",
    "        prefix cdm: <http://publications.europa.eu/ontology/cdm#>\n",
    "        prefix xsd: <http://www.w3.org/2001/XMLSchema#>\n",
    "\n",
    "        SELECT DISTINCT * WHERE\n",
    "        {\n",
    "        {\n",
    "            SELECT ?name2 WHERE {\n",
    "                ?doc cdm:resource_legal_id_celex \"%s\"^^xsd:string .\n",
    "                ?doc cdm:work_cites_work{1,%i} ?cited .\n",
    "                ?cited cdm:resource_legal_id_celex ?name2 .\n",
    "            }\n",
    "        } UNION {\n",
    "            SELECT ?name2 WHERE {\n",
    "                ?doc cdm:resource_legal_id_celex \"%s\"^^xsd:string .\n",
    "                ?cited cdm:work_cites_work{1,%i} ?doc .\n",
    "                ?cited cdm:resource_legal_id_celex ?name2 .\n",
    "            }\n",
    "        }\n",
    "        }''' % (source_celex, cites_depth, source_celex, cited_depth))\n",
    "    ret = sparql.queryAndConvert()\n",
    "\n",
    "    targets = set()\n",
    "    for bind in ret['results']['bindings']:\n",
    "        target = bind['name2']['value']\n",
    "        targets.add(target)\n",
    "    targets = set([el for el in list(targets) if el.startswith('3')]) #Filters the list. Filtertype: '3'=legislation, '6'=case law.\n",
    "        \n",
    "    return targets\n",
    "\n",
    "def get_citations_multiple(sources, cites_depth=1, cited_depth=1, union=True):\n",
    "    \"\"\"\n",
    "    Gets citations coming from multiple sources (given as a list of CELEX IDs).\n",
    "    By default gets the union of all the resulting CELEXes, but of interest\n",
    "    might be the intersect instead, returning only documents that are common\n",
    "    between all the sources.\n",
    "    \"\"\"\n",
    "    results = [get_citations(source, cites_depth, cited_depth) for source in sources]\n",
    "    results.append(sources) #ensures that source nodes (ie starting points) are included in nodes list\n",
    "\n",
    "    if union:\n",
    "        return set().union(*results)    \n",
    "    else:\n",
    "        start_set = results[0]\n",
    "        if len(sources) > 1:\n",
    "            return start_set.union(*results[1:])\n",
    "        else:\n",
    "            return start_set\n",
    "\n",
    "def get_citations_structure(source, cites_depth=1, cited_depth=1, dont_repeat=set()):\n",
    "    if cites_depth > 0 and cited_depth > 0:\n",
    "        cites, nodes1 = get_citations_structure(source, cites_depth, 0, dont_repeat)\n",
    "        cited, nodes2 = get_citations_structure(source, 0, cited_depth, dont_repeat)\n",
    "        return cites.union(cited), nodes1.union(nodes2)\n",
    "\n",
    "\n",
    "    new_cites_depth = max(cites_depth - 1, 0)\n",
    "    new_cited_depth = max(cited_depth - 1, 0)\n",
    "\n",
    "    dont_repeat = dont_repeat.union({source})\n",
    "\n",
    "    links = set()\n",
    "    nodes = {source}\n",
    "    targets = get_citations(source, min(cites_depth, 1), min(cited_depth, 1))\n",
    "\n",
    "    for target in targets:\n",
    "        nodes.add(target)\n",
    "        # We're looking for citations from the source\n",
    "        if cites_depth > 0:\n",
    "            links.add((source, target))\n",
    "        # Or to the source\n",
    "        else:\n",
    "            links.add((target, source))\n",
    "\n",
    "        if new_cites_depth or new_cited_depth and target not in dont_repeat:\n",
    "            new_links, new_nodes = get_citations_structure(target, new_cites_depth, new_cited_depth)\n",
    "            links = links.union(new_links)\n",
    "            nodes = nodes.union(new_nodes)\n",
    "\n",
    "    return links, nodes\n",
    "\n",
    "def get_citations_structure_multiple(sources, cites_depth=1, cited_depth=1):\n",
    "    links = set()\n",
    "    nodes = set(sources)\n",
    "    for source in sources:\n",
    "        if source.startswith('3'):\n",
    "            new_links, new_nodes = get_citations_structure(source, cites_depth, cited_depth)\n",
    "            links = links.union(new_links)\n",
    "            nodes = nodes.union(new_nodes)\n",
    "#            nodes = set([el for el in list(nodes) if el.startswith('3')]) #Filters the list. Filtertype: '3'=legislation, '6'=case law.\n",
    "    return links, nodes"
   ]
  },
  {
   "cell_type": "code",
   "execution_count": 664,
   "metadata": {},
   "outputs": [],
   "source": [
    "expert_docs = {\n",
    "    '32018R1139',\n",
    "    '32010R0996',\n",
    "    '32012R1025',\n",
    "    '32008R0765',\n",
    "    '32008D0768',\n",
    "    '32006L0042',\n",
    "    '32009L0048',\n",
    "    '32012R0748',\n",
    "    '32015R0640',\n",
    "    '32019R0945',\n",
    "    '32008R0300',\n",
    "    '32014R0376',\n",
    "    '32019R0947',\n",
    "    '32012R0923',\n",
    "    '32021R0666',\n",
    "    '32011R1178',\n",
    "    '32012R0965',\n",
    "    '32014R1321',\n",
    "    '32011R1332',\n",
    "    '32018R1048',\n",
    "    '32017R0373',\n",
    "    '32021R0664',\n",
    "    '32021R0665',\n",
    "    '32016L1148',\n",
    "    '32019R0881',\n",
    "    '32016R0679',\n",
    "    '31985L0374',\n",
    "    '32004R0785',\n",
    "}"
   ]
  },
  {
   "cell_type": "code",
   "execution_count": 781,
   "metadata": {},
   "outputs": [],
   "source": [
    "source = '32021R0664'\n",
    "sources = ['32019R0945','32021R0664']"
   ]
  },
  {
   "cell_type": "code",
   "execution_count": 782,
   "metadata": {
    "pycharm": {
     "name": "#%%\n"
    }
   },
   "outputs": [],
   "source": [
    "links, nodes = get_citations_structure(source, cited_depth=0, cites_depth=2)"
   ]
  },
  {
   "cell_type": "code",
   "execution_count": 783,
   "metadata": {
    "pycharm": {
     "name": "#%%\n"
    }
   },
   "outputs": [],
   "source": [
    "links, nodes = get_citations_structure_multiple(sources, cited_depth=1, cites_depth=2)"
   ]
  },
  {
   "cell_type": "code",
   "execution_count": 784,
   "metadata": {
    "pycharm": {
     "name": "#%%\n"
    }
   },
   "outputs": [
    {
     "name": "stdout",
     "output_type": "stream",
     "text": [
      "31991L0477\n",
      "32011R1332\n",
      "32002R2342\n",
      "31997L0067\n",
      "32008R0765\n",
      "32007R0614\n",
      "32007D0344\n",
      "31993R0793\n",
      "31981L0851\n",
      "31998L0034\n",
      "32004L0018\n",
      "31967L0548\n",
      "32014R1321\n",
      "31977L0388\n",
      "31999R1073\n",
      "32012R0923\n",
      "32006L0042\n",
      "32004R0550\n",
      "32002L0021\n",
      "32008R0216\n",
      "32002L0095\n",
      "31994L0062\n",
      "32006D1926\n",
      "31970L0156\n",
      "32001R1049\n",
      "32014L0035\n",
      "32011R0182\n",
      "32000X1218(01)\n",
      "31989L0048\n",
      "32012R1025\n",
      "32010D0048\n",
      "31989L0392\n",
      "32006R1907\n",
      "31996R2185\n",
      "32002D0676\n",
      "31999L0044\n",
      "32002L0024\n",
      "32009L0081\n",
      "31999Y0128(01)\n",
      "31992L0005\n",
      "31992R2913\n",
      "32008L0063\n",
      "31990L0314\n",
      "31998L0006\n",
      "32005L0036\n",
      "32006D1673\n",
      "31993L0013\n",
      "32021R0665\n",
      "32014L0030\n",
      "32009L0048\n",
      "32015R0640\n",
      "32020R0639\n",
      "32021R0664\n",
      "31987L0102\n",
      "31997L0066\n",
      "32004R0549\n",
      "31992L0028\n",
      "32021R0666\n",
      "31999D0468\n",
      "32012R0965\n",
      "32008D0768\n",
      "32002R1605\n",
      "32020R0746\n",
      "31975L0319\n",
      "31984L0450\n",
      "31994L0047\n",
      "32001L0095\n",
      "32015R0340\n",
      "31989L0552\n",
      "32004R1935\n",
      "32017R0373\n",
      "32000L0031\n",
      "32008R1008\n",
      "32019R0945\n",
      "31995R2988\n",
      "32011R1178\n",
      "31985L0374\n",
      "32002L0096\n",
      "31984D0133\n",
      "32012R0748\n",
      "31998L0027\n",
      "31999L0093\n",
      "31995L0046\n",
      "31993L0022\n",
      "31998L0084\n",
      "32014L0053\n",
      "32016R0679\n",
      "32001R0045\n",
      "32006L0012\n",
      "31998L0043\n",
      "31992L0059\n",
      "31997L0007\n",
      "32006D1639\n",
      "32004R0551\n",
      "32014R0139\n",
      "32019R0947\n",
      "32004L0017\n",
      "32009D0922\n",
      "32014R0376\n",
      "31997L0013\n",
      "31985Y0604(01)\n",
      "32011R0305\n"
     ]
    }
   ],
   "source": [
    "# Example on how to go through nodes in a set\n",
    "for node in nodes:\n",
    "    print(node)"
   ]
  },
  {
   "cell_type": "code",
   "execution_count": 785,
   "metadata": {},
   "outputs": [
    {
     "name": "stdout",
     "output_type": "stream",
     "text": [
      "Total nodes found in search: 102\n",
      "Precision: 0.20588235294117646\n",
      "Recall: 0.75\n",
      "F1: 0.3230769230769231\n",
      "Common nodes (21): {'32011R1332', '32021R0664', '32008R0765', '32021R0666', '32008D0768', '32012R0965', '32014R1321', '32006L0042', '32012R0923', '32017R0373', '32019R0945', '32011R1178', '31985L0374', '32012R0748', '32012R1025', '32016R0679', '32019R0947', '32014R0376', '32021R0665', '32015R0640', '32009L0048'}\n",
      "Missed nodes (7): {'32010R0996', '32008R0300', '32018R1139', '32004R0785', '32018R1048', '32019R0881', '32016L1148'}\n",
      "Extra nodes (ones it shouldn't (81): {'32002R2342', '31997L0067', '32007R0614', '31993R0793', '32004L0018', '31999R1073', '31994L0062', '31970L0156', '32001R1049', '32000X1218(01)', '31989L0048', '32010D0048', '31989L0392', '31996R2185', '32002L0024', '31999Y0128(01)', '31992L0005', '31998L0006', '32020R0639', '31987L0102', '32004R0549', '31999D0468', '32020R0746', '31975L0319', '31994L0047', '32015R0340', '32004R1935', '32000L0031', '31995R2988', '32002L0096', '31998L0027', '32006L0012', '31993L0022', '31998L0084', '31998L0043', '31992L0059', '31997L0007', '32006D1639', '32009D0922', '31997L0013', '31985Y0604(01)', '31991L0477', '32007D0344', '31981L0851', '31998L0034', '31967L0548', '31977L0388', '32004R0550', '32002L0021', '32008R0216', '32002L0095', '32006D1926', '32014L0035', '32011R0182', '32006R1907', '32002D0676', '31999L0044', '32009L0081', '31992R2913', '32008L0063', '31990L0314', '32005L0036', '32006D1673', '31993L0013', '32014L0030', '31997L0066', '31992L0028', '32002R1605', '31984L0450', '32001L0095', '31989L0552', '32008R1008', '31984D0133', '31999L0093', '31995L0046', '32014L0053', '32001R0045', '32004R0551', '32014R0139', '32004L0017', '32011R0305'}\n"
     ]
    },
    {
     "data": {
      "text/plain": [
       "(0.20588235294117646, 0.75, 0.3230769230769231)"
      ]
     },
     "execution_count": 785,
     "metadata": {},
     "output_type": "execute_result"
    }
   ],
   "source": [
    "def do_stats(nodes, print_res=True):\n",
    "    nodes = set(nodes)\n",
    "\n",
    "    precision = len(nodes.intersection(expert_docs)) / float(len(nodes))\n",
    "    recall = len(nodes.intersection(expert_docs)) / float(len(expert_docs))\n",
    "    f1 = 2 * (precision * recall) / (precision + recall)\n",
    "    if print_res:\n",
    "        print(f'Total nodes found in search: {len(nodes)}')\n",
    "        print(f'Precision: {precision}\\nRecall: {recall}\\nF1: {f1}')\n",
    "\n",
    "        print(f'Common nodes ({len(nodes.intersection(expert_docs))}): {nodes.intersection(expert_docs)}')\n",
    "        print(f'Missed nodes ({len(expert_docs - nodes)}): {expert_docs - nodes}')\n",
    "        print(f\"Extra nodes (ones it shouldn't ({len(nodes - expert_docs)}): {nodes - expert_docs}\")\n",
    "    return (precision, recall, f1)\n",
    "\n",
    "do_stats(nodes)"
   ]
  },
  {
   "cell_type": "code",
   "execution_count": 786,
   "metadata": {
    "scrolled": true
   },
   "outputs": [
    {
     "name": "stdout",
     "output_type": "stream",
     "text": [
      "Cites depth: 00 | Cited depth: 00 | Pr 1.00 Re 0.07 F1 0.13\n",
      "Cites depth: 00 | Cited depth: 01 | Pr 0.67 Re 0.14 F1 0.24\n",
      "Cites depth: 00 | Cited depth: 02 | Pr 0.57 Re 0.14 F1 0.23\n",
      "Cites depth: 00 | Cited depth: 03 | Pr 0.50 Re 0.14 F1 0.22\n",
      "Cites depth: 00 | Cited depth: 04 | Pr 0.40 Re 0.14 F1 0.21\n",
      "Cites depth: 01 | Cited depth: 00 | Pr 0.76 Re 0.57 F1 0.65\n",
      "Cites depth: 01 | Cited depth: 01 | Pr 0.70 Re 0.57 F1 0.63\n",
      "Cites depth: 01 | Cited depth: 02 | Pr 0.67 Re 0.57 F1 0.62\n",
      "Cites depth: 01 | Cited depth: 03 | Pr 0.64 Re 0.57 F1 0.60\n",
      "Cites depth: 01 | Cited depth: 04 | Pr 0.59 Re 0.57 F1 0.58\n",
      "Cites depth: 02 | Cited depth: 00 | Pr 0.21 Re 0.75 F1 0.33\n",
      "Cites depth: 02 | Cited depth: 01 | Pr 0.21 Re 0.75 F1 0.32\n",
      "Cites depth: 02 | Cited depth: 02 | Pr 0.20 Re 0.75 F1 0.32\n",
      "Cites depth: 02 | Cited depth: 03 | Pr 0.20 Re 0.75 F1 0.32\n",
      "Cites depth: 02 | Cited depth: 04 | Pr 0.20 Re 0.75 F1 0.31\n",
      "Cites depth: 03 | Cited depth: 00 | Pr 0.07 Re 0.75 F1 0.12\n",
      "Cites depth: 03 | Cited depth: 01 | Pr 0.07 Re 0.75 F1 0.12\n",
      "Cites depth: 03 | Cited depth: 02 | Pr 0.07 Re 0.75 F1 0.12\n",
      "Cites depth: 03 | Cited depth: 03 | Pr 0.07 Re 0.75 F1 0.12\n",
      "Cites depth: 03 | Cited depth: 04 | Pr 0.07 Re 0.75 F1 0.12\n",
      "Cites depth: 04 | Cited depth: 00 | Pr 0.03 Re 0.75 F1 0.06\n",
      "Cites depth: 04 | Cited depth: 01 | Pr 0.03 Re 0.75 F1 0.06\n",
      "Cites depth: 04 | Cited depth: 02 | Pr 0.03 Re 0.75 F1 0.06\n",
      "Cites depth: 04 | Cited depth: 03 | Pr 0.03 Re 0.75 F1 0.06\n",
      "Cites depth: 04 | Cited depth: 04 | Pr 0.03 Re 0.75 F1 0.05\n"
     ]
    }
   ],
   "source": [
    "# Go through matrix of depths and calculate stats for each\n",
    "for i in range(5):\n",
    "    for j in range(5):\n",
    "        try:\n",
    "            precision, recall, f1 = do_stats(get_citations_multiple(sources, i, j), print_res=False)\n",
    "            print(f'Cites depth: {i:02d} | Cited depth: {j:02d} | Pr {precision:.2f} Re {recall:.2f} F1 {f1:.2f}')\n",
    "        except ZeroDivisionError:\n",
    "            print(\"Tried dividing by zero, skipping\")"
   ]
  },
  {
   "cell_type": "code",
   "execution_count": 787,
   "metadata": {},
   "outputs": [],
   "source": [
    "#prepare the edges list for csv\n",
    "edges_list_for_csv = []\n",
    "for i in links:\n",
    "    to_add = i[0][1:]+','+i[1][1:]\n",
    "    edges_list_for_csv.append(to_add)\n",
    "#write to files\n",
    "with open('./csvoutput/extracted_edges(network).csv', 'w', newline='') as f:  \n",
    "    for entries in edges_list_for_csv:\n",
    "        f.write(entries)\n",
    "        f.write(\"\\n\")"
   ]
  },
  {
   "cell_type": "code",
   "execution_count": 762,
   "metadata": {},
   "outputs": [],
   "source": [
    "import networkx as nx\n",
    "\n",
    "# Build complete network of docs\n",
    "links, _ = get_citations_structure_multiple(sources, cites_depth=2, cited_depth=2)\n",
    "\n",
    "g = nx.Graph()\n",
    "g.add_edges_from(links)"
   ]
  },
  {
   "cell_type": "code",
   "execution_count": 713,
   "metadata": {},
   "outputs": [
    {
     "name": "stdout",
     "output_type": "stream",
     "text": [
      "Total nodes found in search: 33\n",
      "Precision: 0.45454545454545453\n",
      "Recall: 0.5357142857142857\n",
      "F1: 0.49180327868852464\n",
      "Common nodes (15): {'32012R0748', '32014R1321', '32021R0664', '32008R0765', '32019R0947', '32012R1025', '32006L0042', '32012R0923', '32008D0768', '32012R0965', '32017R0373', '32014R0376', '32019R0945', '32009L0048', '31985L0374'}\n",
      "Missed nodes (13): {'32011R1332', '32015R0640', '32010R0996', '32008R0300', '32004R0785', '32018R1139', '32021R0666', '32018R1048', '32016R0679', '32016L1148', '32019R0881', '32021R0665', '32011R1178'}\n",
      "Extra nodes (ones it shouldn't (18): {'32002R2342', '32001R1049', '32011R0182', '31995L0046', '32004R0549', '32001L0095', '32014L0053', '31999R1073', '31999D0468', '31998L0034', '32000L0031', '32002R1605', '31996R2185', '31995R2988', '32008R0216', '32002L0021', '32004R0551', '32014L0030'}\n"
     ]
    },
    {
     "data": {
      "text/plain": [
       "(0.45454545454545453, 0.5357142857142857, 0.49180327868852464)"
      ]
     },
     "execution_count": 713,
     "metadata": {},
     "output_type": "execute_result"
    }
   ],
   "source": [
    "# Filter by degree\n",
    "filter_degree = 2\n",
    "filtered = {node for node, degree in g.degree if degree >= filter_degree}\n",
    "\n",
    "do_stats(filtered)"
   ]
  },
  {
   "cell_type": "code",
   "execution_count": null,
   "metadata": {},
   "outputs": [],
   "source": [
    "# saving graph created above in gexf format\n",
    "nx.write_gexf(g, \"./networkfiles/networkfile.gexf\")"
   ]
  },
  {
   "cell_type": "code",
   "execution_count": 60,
   "metadata": {},
   "outputs": [],
   "source": [
    "from pyvis.network import Network\n",
    "\n",
    "# Visualize filtered network\n",
    "nt = Network(720, 1280)\n",
    "nt.add_nodes(filtered)\n",
    "nt.add_edges([(source, target) for source, target in g.edges if source in filtered and target in filtered])\n",
    "nt.show('filtered.html')"
   ]
  },
  {
   "cell_type": "code",
   "execution_count": null,
   "metadata": {},
   "outputs": [],
   "source": []
  }
 ],
 "metadata": {
  "interpreter": {
   "hash": "46d8675e7301772991a005dee3941691e992e064f540356d3b3c650b45d03ba5"
  },
  "kernelspec": {
   "display_name": "Python 3 (ipykernel)",
   "language": "python",
   "name": "python3"
  },
  "language_info": {
   "codemirror_mode": {
    "name": "ipython",
    "version": 3
   },
   "file_extension": ".py",
   "mimetype": "text/x-python",
   "name": "python",
   "nbconvert_exporter": "python",
   "pygments_lexer": "ipython3",
   "version": "3.8.12"
  }
 },
 "nbformat": 4,
 "nbformat_minor": 2
}
